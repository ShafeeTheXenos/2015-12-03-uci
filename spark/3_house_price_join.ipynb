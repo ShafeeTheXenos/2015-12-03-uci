{
 "cells": [
  {
   "cell_type": "markdown",
   "metadata": {},
   "source": [
    "Create a local file just on the Driver, this is not accessible by the Spark Cluster"
   ]
  },
  {
   "cell_type": "code",
   "execution_count": 1,
   "metadata": {
    "collapsed": false
   },
   "outputs": [
    {
     "name": "stdout",
     "output_type": "stream",
     "text": [
      "Writing inflation.txt\n"
     ]
    }
   ],
   "source": [
    "%%file inflation.txt\n",
    "Downtown 2.1\n",
    "Hilltop 4.5"
   ]
  },
  {
   "cell_type": "code",
   "execution_count": 2,
   "metadata": {
    "collapsed": false
   },
   "outputs": [
    {
     "name": "stdout",
     "output_type": "stream",
     "text": [
      "Downtown 2.1\r\n",
      "Hilltop 4.5"
     ]
    }
   ],
   "source": [
    "!cat inflation.txt"
   ]
  },
  {
   "cell_type": "markdown",
   "metadata": {},
   "source": [
    "Copy the file to the distributed file system HDFS"
   ]
  },
  {
   "cell_type": "code",
   "execution_count": 3,
   "metadata": {
    "collapsed": false
   },
   "outputs": [
    {
     "name": "stdout",
     "output_type": "stream",
     "text": [
      "15/12/03 14:53:27 WARN util.NativeCodeLoader: Unable to load native-hadoop library for your platform... using builtin-java classes where applicable\r\n"
     ]
    }
   ],
   "source": [
    "!hdfs dfs -copyFromLocal inflation.txt /data/"
   ]
  },
  {
   "cell_type": "markdown",
   "metadata": {},
   "source": [
    "Verify that the file is replicated 3 times"
   ]
  },
  {
   "cell_type": "code",
   "execution_count": 4,
   "metadata": {
    "collapsed": false
   },
   "outputs": [
    {
     "name": "stdout",
     "output_type": "stream",
     "text": [
      "15/12/03 14:53:39 WARN util.NativeCodeLoader: Unable to load native-hadoop library for your platform... using builtin-java classes where applicable\n",
      "Connecting to namenode via http://comet-06-55.ibnet:50070\n",
      "FSCK started by zonca (auth:SIMPLE) from /10.22.254.96 for path /data/inflation.txt at Thu Dec 03 14:53:39 PST 2015\n",
      "/data/inflation.txt 24 bytes, 1 block(s):  Under replicated BP-1823862164-198.202.119.184-1449177989860:blk_1073741830_1006. Target Replicas is 3 but found 1 replica(s).\n",
      "0. BP-1823862164-198.202.119.184-1449177989860:blk_1073741830_1006 len=24 repl=1 [/default-rack/10.22.254.96:50010]\n",
      "\n",
      "Status: HEALTHY\n",
      " Total size:\t24 B\n",
      " Total dirs:\t0\n",
      " Total files:\t1\n",
      " Total symlinks:\t\t0\n",
      " Total blocks (validated):\t1 (avg. block size 24 B)\n",
      " Minimally replicated blocks:\t1 (100.0 %)\n",
      " Over-replicated blocks:\t0 (0.0 %)\n",
      " Under-replicated blocks:\t1 (100.0 %)\n",
      " Mis-replicated blocks:\t\t0 (0.0 %)\n",
      " Default replication factor:\t3\n",
      " Average block replication:\t1.0\n",
      " Corrupt blocks:\t\t0\n",
      " Missing replicas:\t\t2 (66.666664 %)\n",
      " Number of data-nodes:\t\t1\n",
      " Number of racks:\t\t1\n",
      "FSCK ended at Thu Dec 03 14:53:39 PST 2015 in 1 milliseconds\n",
      "\n",
      "\n",
      "The filesystem under path '/data/inflation.txt' is HEALTHY\n"
     ]
    }
   ],
   "source": [
    "!hdfs fsck /data/inflation.txt -files -blocks -locations -racks  "
   ]
  },
  {
   "cell_type": "markdown",
   "metadata": {},
   "source": [
    "## Load house prices"
   ]
  },
  {
   "cell_type": "code",
   "execution_count": 5,
   "metadata": {
    "collapsed": false
   },
   "outputs": [],
   "source": [
    "text_RDD = sc.textFile(\"/data/houses.txt\")"
   ]
  },
  {
   "cell_type": "code",
   "execution_count": 6,
   "metadata": {
    "collapsed": false
   },
   "outputs": [],
   "source": [
    "def mapper_parse_lines(line):\n",
    "    \"\"\"Parse line into (neighborhoood, price) pair\"\"\"\n",
    "    words = line.split()\n",
    "    return (words[1], float(words[2]))"
   ]
  },
  {
   "cell_type": "code",
   "execution_count": 7,
   "metadata": {
    "collapsed": false
   },
   "outputs": [],
   "source": [
    "house_prices_RDD = text_RDD.map(mapper_parse_lines)"
   ]
  },
  {
   "cell_type": "code",
   "execution_count": 8,
   "metadata": {
    "collapsed": false
   },
   "outputs": [
    {
     "data": {
      "text/plain": [
       "[(u'Downtown', 400000.0), (u'Downtown', 240000.0), (u'Hilltop', 650000.0)]"
      ]
     },
     "execution_count": 8,
     "metadata": {},
     "output_type": "execute_result"
    }
   ],
   "source": [
    "house_prices_RDD.collect()"
   ]
  },
  {
   "cell_type": "markdown",
   "metadata": {},
   "source": [
    "## Load inflation"
   ]
  },
  {
   "cell_type": "code",
   "execution_count": 9,
   "metadata": {
    "collapsed": false
   },
   "outputs": [],
   "source": [
    "inflation_text_RDD = sc.textFile(\"/data/inflation.txt\")"
   ]
  },
  {
   "cell_type": "code",
   "execution_count": 10,
   "metadata": {
    "collapsed": false
   },
   "outputs": [],
   "source": [
    "def mapper_parse__inflation_lines(line):\n",
    "    \"\"\"Parse line into (neighborhoood, inflation) pair\"\"\"\n",
    "    words = line.split()\n",
    "    return (words[0], float(words[1]))"
   ]
  },
  {
   "cell_type": "code",
   "execution_count": 11,
   "metadata": {
    "collapsed": true
   },
   "outputs": [],
   "source": [
    "inflation_RDD = inflation_text_RDD.map(mapper_parse__inflation_lines)"
   ]
  },
  {
   "cell_type": "code",
   "execution_count": 12,
   "metadata": {
    "collapsed": false
   },
   "outputs": [
    {
     "data": {
      "text/plain": [
       "[(u'Downtown', 2.1), (u'Hilltop', 4.5)]"
      ]
     },
     "execution_count": 12,
     "metadata": {},
     "output_type": "execute_result"
    }
   ],
   "source": [
    "inflation_RDD.collect()"
   ]
  },
  {
   "cell_type": "markdown",
   "metadata": {
    "collapsed": true
   },
   "source": [
    "## join"
   ]
  },
  {
   "cell_type": "code",
   "execution_count": 13,
   "metadata": {
    "collapsed": false
   },
   "outputs": [
    {
     "data": {
      "text/plain": [
       "[(u'Downtown', (400000.0, 2.1)),\n",
       " (u'Downtown', (240000.0, 2.1)),\n",
       " (u'Hilltop', (650000.0, 4.5))]"
      ]
     },
     "execution_count": 13,
     "metadata": {},
     "output_type": "execute_result"
    }
   ],
   "source": [
    "house_prices_RDD.join(inflation_RDD).collect()"
   ]
  },
  {
   "cell_type": "code",
   "execution_count": 17,
   "metadata": {
    "collapsed": true
   },
   "outputs": [],
   "source": [
    "def mapper_multiply_price_inflation(pair):\n",
    "    inflation_ratio = 1 + pair[1][1]/100.\n",
    "    return (pair[0], pair[1][0]*inflation_ratio)"
   ]
  },
  {
   "cell_type": "code",
   "execution_count": 18,
   "metadata": {
    "collapsed": false
   },
   "outputs": [],
   "source": [
    "house_prices_nextyear_RDD = house_prices_RDD.join(inflation_RDD).map(mapper_multiply_price_inflation)"
   ]
  },
  {
   "cell_type": "code",
   "execution_count": 19,
   "metadata": {
    "collapsed": false
   },
   "outputs": [
    {
     "data": {
      "text/plain": [
       "[(u'Downtown', 408399.99999999994),\n",
       " (u'Downtown', 245039.99999999997),\n",
       " (u'Hilltop', 679250.0)]"
      ]
     },
     "execution_count": 19,
     "metadata": {},
     "output_type": "execute_result"
    }
   ],
   "source": [
    "house_prices_nextyear_RDD.collect()"
   ]
  },
  {
   "cell_type": "markdown",
   "metadata": {
    "collapsed": true
   },
   "source": [
    "## reduce"
   ]
  },
  {
   "cell_type": "code",
   "execution_count": 20,
   "metadata": {
    "collapsed": true
   },
   "outputs": [],
   "source": [
    "def reducer_sum(a,b):\n",
    "    return a+b"
   ]
  },
  {
   "cell_type": "code",
   "execution_count": 21,
   "metadata": {
    "collapsed": false
   },
   "outputs": [],
   "source": [
    "total_nextyear = house_prices_nextyear_RDD.reduceByKey(reducer_sum)"
   ]
  },
  {
   "cell_type": "code",
   "execution_count": 22,
   "metadata": {
    "collapsed": false
   },
   "outputs": [
    {
     "data": {
      "text/plain": [
       "[(u'Downtown', 653439.9999999999), (u'Hilltop', 679250.0)]"
      ]
     },
     "execution_count": 22,
     "metadata": {},
     "output_type": "execute_result"
    }
   ],
   "source": [
    "total_nextyear.collect()"
   ]
  },
  {
   "cell_type": "markdown",
   "metadata": {},
   "source": [
    "## Excercise\n",
    "\n",
    "List neighborhood and house price only for the neighborhoods where inflation is low (less than 4%)\n",
    "\n",
    "(Advanced: for each of those neighborhoods, find the more expensive house)"
   ]
  },
  {
   "cell_type": "code",
   "execution_count": 24,
   "metadata": {
    "collapsed": true
   },
   "outputs": [],
   "source": [
    "prices_inflation_RDD = house_prices_RDD.join(inflation_RDD)"
   ]
  },
  {
   "cell_type": "code",
   "execution_count": 25,
   "metadata": {
    "collapsed": false
   },
   "outputs": [
    {
     "data": {
      "text/plain": [
       "[(u'Downtown', (400000.0, 2.1)),\n",
       " (u'Downtown', (240000.0, 2.1)),\n",
       " (u'Hilltop', (650000.0, 4.5))]"
      ]
     },
     "execution_count": 25,
     "metadata": {},
     "output_type": "execute_result"
    }
   ],
   "source": [
    "prices_inflation_RDD.collect()"
   ]
  },
  {
   "cell_type": "code",
   "execution_count": 35,
   "metadata": {
    "collapsed": true
   },
   "outputs": [],
   "source": [
    "def has_low_inflation(pair):\n",
    "    return pair[1][1] < 4"
   ]
  },
  {
   "cell_type": "code",
   "execution_count": 36,
   "metadata": {
    "collapsed": false
   },
   "outputs": [
    {
     "data": {
      "text/plain": [
       "True"
      ]
     },
     "execution_count": 36,
     "metadata": {},
     "output_type": "execute_result"
    }
   ],
   "source": [
    "has_low_inflation((u'Downtown', (400000.0, 2.1)))"
   ]
  },
  {
   "cell_type": "code",
   "execution_count": 37,
   "metadata": {
    "collapsed": false
   },
   "outputs": [
    {
     "data": {
      "text/plain": [
       "False"
      ]
     },
     "execution_count": 37,
     "metadata": {},
     "output_type": "execute_result"
    }
   ],
   "source": [
    "has_low_inflation((u'Hilltop', (650000.0, 4.5)))"
   ]
  },
  {
   "cell_type": "code",
   "execution_count": 39,
   "metadata": {
    "collapsed": false
   },
   "outputs": [
    {
     "data": {
      "text/plain": [
       "[(u'Downtown', (400000.0, 2.1)), (u'Downtown', (240000.0, 2.1))]"
      ]
     },
     "execution_count": 39,
     "metadata": {},
     "output_type": "execute_result"
    }
   ],
   "source": [
    "prices_inflation_RDD.filter(has_low_inflation).collect()"
   ]
  },
  {
   "cell_type": "code",
   "execution_count": 41,
   "metadata": {
    "collapsed": false
   },
   "outputs": [
    {
     "data": {
      "text/plain": [
       "[(u'Downtown', 400000.0)]"
      ]
     },
     "execution_count": 41,
     "metadata": {},
     "output_type": "execute_result"
    }
   ],
   "source": [
    "# %load solution_house_price_join.py\n",
    "def is_inflation_low(pair):\n",
    "    return pair[1][1] < 4\n",
    "def reducer_max_price(a,b):\n",
    "    return max(a[0], b[0])\n",
    "house_prices_RDD.join(inflation_RDD).filter(is_inflation_low). \\\n",
    "       reduceByKey(reducer_max_price).collect()\n"
   ]
  },
  {
   "cell_type": "markdown",
   "metadata": {},
   "source": [
    "## Print DAG"
   ]
  },
  {
   "cell_type": "code",
   "execution_count": 23,
   "metadata": {
    "collapsed": false
   },
   "outputs": [
    {
     "name": "stdout",
     "output_type": "stream",
     "text": [
      "(4) PythonRDD[34] at collect at <ipython-input-22-4646dc69b0ef>:1 []\n",
      " |  MapPartitionsRDD[33] at mapPartitions at PythonRDD.scala:374 []\n",
      " |  ShuffledRDD[32] at partitionBy at NativeMethodAccessorImpl.java:-2 []\n",
      " +-(4) PairwiseRDD[31] at reduceByKey at <ipython-input-21-6168dd502f27>:1 []\n",
      "    |  PythonRDD[30] at reduceByKey at <ipython-input-21-6168dd502f27>:1 []\n",
      "    |  MapPartitionsRDD[28] at mapPartitions at PythonRDD.scala:374 []\n",
      "    |  ShuffledRDD[27] at partitionBy at NativeMethodAccessorImpl.java:-2 []\n",
      "    +-(4) PairwiseRDD[26] at join at <ipython-input-18-983588daccd8>:1 []\n",
      "       |  PythonRDD[25] at join at <ipython-input-18-983588daccd8>:1 []\n",
      "       |  UnionRDD[24] at union at NativeMethodAccessorImpl.java:-2 []\n",
      "       |  PythonRDD[22] at RDD at PythonRDD.scala:43 []\n",
      "       |  MapPartitionsRDD[1] at textFile at NativeMethodAccessorImpl.java:-2 []\n",
      "       |  /data/houses.txt HadoopRDD[0] at textFile at NativeMethodAccessorImpl.java:-2 []\n",
      "       |  PythonRDD[23] at RDD at PythonRDD.scala:43 []\n",
      "       |  MapPartitionsRDD[4] at textFile at NativeMethodAccessorImpl.java:-2 []\n",
      "       |  /data/inflation.txt HadoopRDD[3] at textFile at NativeMethodAccessorImpl.java:-2 []\n"
     ]
    }
   ],
   "source": [
    "print(total_nextyear.toDebugString())"
   ]
  },
  {
   "cell_type": "markdown",
   "metadata": {},
   "source": [
    "## Cache"
   ]
  },
  {
   "cell_type": "code",
   "execution_count": 42,
   "metadata": {
    "collapsed": false
   },
   "outputs": [
    {
     "name": "stdout",
     "output_type": "stream",
     "text": [
      "CPU times: user 12 ms, sys: 1 ms, total: 13 ms\n",
      "Wall time: 165 ms\n"
     ]
    },
    {
     "data": {
      "text/plain": [
       "[(u'Downtown', 408399.99999999994), (u'Hilltop', 679250.0)]"
      ]
     },
     "execution_count": 42,
     "metadata": {},
     "output_type": "execute_result"
    }
   ],
   "source": [
    "%time house_prices_nextyear_RDD.reduceByKey(max).collect()"
   ]
  },
  {
   "cell_type": "code",
   "execution_count": 43,
   "metadata": {
    "collapsed": false
   },
   "outputs": [
    {
     "name": "stdout",
     "output_type": "stream",
     "text": [
      "CPU times: user 7 ms, sys: 3 ms, total: 10 ms\n",
      "Wall time: 172 ms\n"
     ]
    },
    {
     "data": {
      "text/plain": [
       "[(u'Downtown', 245039.99999999997), (u'Hilltop', 679250.0)]"
      ]
     },
     "execution_count": 43,
     "metadata": {},
     "output_type": "execute_result"
    }
   ],
   "source": [
    "%time house_prices_nextyear_RDD.reduceByKey(min).collect()"
   ]
  },
  {
   "cell_type": "code",
   "execution_count": 44,
   "metadata": {
    "collapsed": false
   },
   "outputs": [
    {
     "data": {
      "text/plain": [
       "PythonRDD[29] at collect at <ipython-input-19-0f19c536a678>:1"
      ]
     },
     "execution_count": 44,
     "metadata": {},
     "output_type": "execute_result"
    }
   ],
   "source": [
    "house_prices_nextyear_RDD.cache()"
   ]
  },
  {
   "cell_type": "code",
   "execution_count": 45,
   "metadata": {
    "collapsed": false
   },
   "outputs": [
    {
     "name": "stdout",
     "output_type": "stream",
     "text": [
      "CPU times: user 8 ms, sys: 2 ms, total: 10 ms\n",
      "Wall time: 278 ms\n"
     ]
    },
    {
     "data": {
      "text/plain": [
       "[(u'Downtown', 408399.99999999994), (u'Hilltop', 679250.0)]"
      ]
     },
     "execution_count": 45,
     "metadata": {},
     "output_type": "execute_result"
    }
   ],
   "source": [
    "%time house_prices_nextyear_RDD.reduceByKey(max).collect()"
   ]
  },
  {
   "cell_type": "code",
   "execution_count": 46,
   "metadata": {
    "collapsed": false
   },
   "outputs": [
    {
     "name": "stdout",
     "output_type": "stream",
     "text": [
      "CPU times: user 5 ms, sys: 4 ms, total: 9 ms\n",
      "Wall time: 178 ms\n"
     ]
    },
    {
     "data": {
      "text/plain": [
       "[(u'Downtown', 245039.99999999997), (u'Hilltop', 679250.0)]"
      ]
     },
     "execution_count": 46,
     "metadata": {},
     "output_type": "execute_result"
    }
   ],
   "source": [
    "%time house_prices_nextyear_RDD.reduceByKey(min).collect()"
   ]
  },
  {
   "cell_type": "code",
   "execution_count": null,
   "metadata": {
    "collapsed": true
   },
   "outputs": [],
   "source": []
  }
 ],
 "metadata": {
  "kernelspec": {
   "display_name": "Python 2",
   "language": "python",
   "name": "python2"
  },
  "language_info": {
   "codemirror_mode": {
    "name": "ipython",
    "version": 2
   },
   "file_extension": ".py",
   "mimetype": "text/x-python",
   "name": "python",
   "nbconvert_exporter": "python",
   "pygments_lexer": "ipython2",
   "version": "2.7.10"
  }
 },
 "nbformat": 4,
 "nbformat_minor": 0
}
